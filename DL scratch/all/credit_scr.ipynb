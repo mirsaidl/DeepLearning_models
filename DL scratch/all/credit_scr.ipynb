{
 "cells": [
  {
   "cell_type": "code",
   "execution_count": 9,
   "metadata": {},
   "outputs": [],
   "source": [
    "import pandas as pd\n",
    "import numpy as np\n",
    "import matplotlib.pyplot as plt\n",
    "from sklearn.model_selection import train_test_split\n",
    "from nn_with_hidden_layer import *"
   ]
  },
  {
   "cell_type": "code",
   "execution_count": 2,
   "metadata": {},
   "outputs": [
    {
     "data": {
      "text/html": [
       "<div>\n",
       "<style scoped>\n",
       "    .dataframe tbody tr th:only-of-type {\n",
       "        vertical-align: middle;\n",
       "    }\n",
       "\n",
       "    .dataframe tbody tr th {\n",
       "        vertical-align: top;\n",
       "    }\n",
       "\n",
       "    .dataframe thead th {\n",
       "        text-align: right;\n",
       "    }\n",
       "</style>\n",
       "<table border=\"1\" class=\"dataframe\">\n",
       "  <thead>\n",
       "    <tr style=\"text-align: right;\">\n",
       "      <th></th>\n",
       "      <th>Loan_ID</th>\n",
       "      <th>Gender</th>\n",
       "      <th>Married</th>\n",
       "      <th>Dependents</th>\n",
       "      <th>Education</th>\n",
       "      <th>Self_Employed</th>\n",
       "      <th>ApplicantIncome</th>\n",
       "      <th>CoapplicantIncome</th>\n",
       "      <th>LoanAmount</th>\n",
       "      <th>Loan_Amount_Term</th>\n",
       "      <th>Credit_History</th>\n",
       "      <th>Property_Area</th>\n",
       "      <th>Loan_Status</th>\n",
       "    </tr>\n",
       "  </thead>\n",
       "  <tbody>\n",
       "    <tr>\n",
       "      <th>0</th>\n",
       "      <td>LP001002</td>\n",
       "      <td>Male</td>\n",
       "      <td>No</td>\n",
       "      <td>0</td>\n",
       "      <td>Graduate</td>\n",
       "      <td>No</td>\n",
       "      <td>5849</td>\n",
       "      <td>0.0</td>\n",
       "      <td>NaN</td>\n",
       "      <td>360.0</td>\n",
       "      <td>1.0</td>\n",
       "      <td>Urban</td>\n",
       "      <td>Y</td>\n",
       "    </tr>\n",
       "    <tr>\n",
       "      <th>1</th>\n",
       "      <td>LP001003</td>\n",
       "      <td>Male</td>\n",
       "      <td>Yes</td>\n",
       "      <td>1</td>\n",
       "      <td>Graduate</td>\n",
       "      <td>No</td>\n",
       "      <td>4583</td>\n",
       "      <td>1508.0</td>\n",
       "      <td>128.0</td>\n",
       "      <td>360.0</td>\n",
       "      <td>1.0</td>\n",
       "      <td>Rural</td>\n",
       "      <td>N</td>\n",
       "    </tr>\n",
       "    <tr>\n",
       "      <th>2</th>\n",
       "      <td>LP001005</td>\n",
       "      <td>Male</td>\n",
       "      <td>Yes</td>\n",
       "      <td>0</td>\n",
       "      <td>Graduate</td>\n",
       "      <td>Yes</td>\n",
       "      <td>3000</td>\n",
       "      <td>0.0</td>\n",
       "      <td>66.0</td>\n",
       "      <td>360.0</td>\n",
       "      <td>1.0</td>\n",
       "      <td>Urban</td>\n",
       "      <td>Y</td>\n",
       "    </tr>\n",
       "    <tr>\n",
       "      <th>3</th>\n",
       "      <td>LP001006</td>\n",
       "      <td>Male</td>\n",
       "      <td>Yes</td>\n",
       "      <td>0</td>\n",
       "      <td>Not Graduate</td>\n",
       "      <td>No</td>\n",
       "      <td>2583</td>\n",
       "      <td>2358.0</td>\n",
       "      <td>120.0</td>\n",
       "      <td>360.0</td>\n",
       "      <td>1.0</td>\n",
       "      <td>Urban</td>\n",
       "      <td>Y</td>\n",
       "    </tr>\n",
       "    <tr>\n",
       "      <th>4</th>\n",
       "      <td>LP001008</td>\n",
       "      <td>Male</td>\n",
       "      <td>No</td>\n",
       "      <td>0</td>\n",
       "      <td>Graduate</td>\n",
       "      <td>No</td>\n",
       "      <td>6000</td>\n",
       "      <td>0.0</td>\n",
       "      <td>141.0</td>\n",
       "      <td>360.0</td>\n",
       "      <td>1.0</td>\n",
       "      <td>Urban</td>\n",
       "      <td>Y</td>\n",
       "    </tr>\n",
       "  </tbody>\n",
       "</table>\n",
       "</div>"
      ],
      "text/plain": [
       "    Loan_ID Gender Married Dependents     Education Self_Employed  \\\n",
       "0  LP001002   Male      No          0      Graduate            No   \n",
       "1  LP001003   Male     Yes          1      Graduate            No   \n",
       "2  LP001005   Male     Yes          0      Graduate           Yes   \n",
       "3  LP001006   Male     Yes          0  Not Graduate            No   \n",
       "4  LP001008   Male      No          0      Graduate            No   \n",
       "\n",
       "   ApplicantIncome  CoapplicantIncome  LoanAmount  Loan_Amount_Term  \\\n",
       "0             5849                0.0         NaN             360.0   \n",
       "1             4583             1508.0       128.0             360.0   \n",
       "2             3000                0.0        66.0             360.0   \n",
       "3             2583             2358.0       120.0             360.0   \n",
       "4             6000                0.0       141.0             360.0   \n",
       "\n",
       "   Credit_History Property_Area Loan_Status  \n",
       "0             1.0         Urban           Y  \n",
       "1             1.0         Rural           N  \n",
       "2             1.0         Urban           Y  \n",
       "3             1.0         Urban           Y  \n",
       "4             1.0         Urban           Y  "
      ]
     },
     "execution_count": 2,
     "metadata": {},
     "output_type": "execute_result"
    }
   ],
   "source": [
    "# Data\n",
    "df = pd.read_csv('credit.csv')\n",
    "df.head()"
   ]
  },
  {
   "cell_type": "code",
   "execution_count": 3,
   "metadata": {},
   "outputs": [],
   "source": [
    "# Data preprocessing\n",
    "df = df.dropna()\n",
    "df.replace({\"Loan_Status\" : {'N':0, 'Y':1}}, inplace=True)\n",
    "\n",
    "# Labelling\n",
    "df = df.replace(to_replace='3+', value=4)\n",
    "df.replace({'Married':{'No':0, 'Yes':1}, 'Gender':{'Male':1, 'Female':0}, 'Self_Employed':{'No':0, 'Yes':1},\n",
    "                      'Property_Area':{\"Rural\":0, 'Semiurban':1, 'Urban':2}, 'Education':{'Graduate':1, 'Not Graduate':0}}, inplace=True)\n",
    "\n",
    "x = df.drop(columns=['Loan_ID', \"Loan_Status\"] , axis=1)\n",
    "y = df.Loan_Status # label"
   ]
  },
  {
   "cell_type": "code",
   "execution_count": 23,
   "metadata": {},
   "outputs": [],
   "source": [
    "x_train, x_test, y_train, y_test = train_test_split(x,y , test_size=0.2, stratify=y, random_state=30)"
   ]
  },
  {
   "cell_type": "code",
   "execution_count": 24,
   "metadata": {},
   "outputs": [],
   "source": [
    "x_train = normalize(x_train.to_numpy(dtype=int))\n",
    "x_test = normalize(x_test.to_numpy(dtype=int))\n",
    "y_train = y_train.to_numpy(dtype=int)\n",
    "y_test = y_test.to_numpy(dtype=int)"
   ]
  },
  {
   "cell_type": "code",
   "execution_count": 128,
   "metadata": {},
   "outputs": [],
   "source": [
    "# Neural Network with hidden units\n",
    "def normalize(x):\n",
    "    mean = np.mean(x)\n",
    "    std_dev = np.std(x)\n",
    "    z = (x - mean) / std_dev\n",
    "    return z\n",
    "\n",
    "def sigmoid(z):\n",
    "    z_clipped = np.clip(z, -500, 500)  # Clip values to the range [-500, 500]\n",
    "    return 1 / (1 + np.exp(-z_clipped))\n",
    "\n",
    "def sigmoid_derivative(z):\n",
    "    gz = sigmoid(z)\n",
    "    return gz * (1 - gz)\n",
    "\n",
    "def linear(x,w,b):\n",
    "    return (w * x) + b\n",
    "\n",
    "def relu(z):\n",
    "    return np.maximum(0,z)\n",
    "\n",
    "def relu_derivative(z):\n",
    "     return np.where(z > 0, 1, 0)\n",
    "\n",
    "def tanh_derivative(z):\n",
    "    return 1 - (tanh(z) ** 2)\n",
    "\n",
    "def leaky_relu(z):\n",
    "    return np.maximum(0.01 * z, z)\n",
    "\n",
    "def tanh(z):\n",
    "    return np.tanh(z)\n",
    "\n",
    "def loss_sigmoid(y_pred, y):\n",
    "    y_pred = np.clip(y_pred, 1e-15, 1 - 1e-15)\n",
    "    loss = np.mean(- (y * np.log(y_pred) + (1 - y) * np.log(1 - y_pred))) \n",
    "    return loss\n",
    "\n",
    "def init_params(x, hidden_units, output_units):\n",
    "    input_units = x.shape[1]\n",
    "    w1 = np.random.randn(hidden_units, input_units)\n",
    "    b1 = np.zeros((hidden_units,  output_units))\n",
    "    w2 = np.random.randn(output_units, hidden_units)\n",
    "    b2 = np.zeros((output_units, 1))\n",
    "    \n",
    "    return w1, b1, w2, b2\n",
    "    \n",
    "def back_prop(x,y,a1,a2,w2,z1):\n",
    "    m = x.shape[1]\n",
    "    \n",
    "    dz2 = a2 - y # y stacked horizontally\n",
    "    dw2 = np.dot(dz2 ,a1.T) / m\n",
    "    db2 = (np.sum(dz2, axis=1, keepdims=True)) / m\n",
    "    dz1 = np.dot(w2.T,dz2) * relu_derivative(z1)\n",
    "    dw1 = np.dot(dz1 ,x) / m\n",
    "    db1 = (np.sum(dz1, axis=1, keepdims=True)) / m\n",
    "    \n",
    "    return dw1, db1, dw2, db2\n",
    "\n",
    "def forward_prop(x, y, hidden_units, learning_rate, epochs):\n",
    "    w1, b1, w2, b2 = init_params(x, hidden_units, output_units=1)\n",
    "    \n",
    "    for i in range(epochs+1):\n",
    "        z1 = np.dot(w1,x.T) + b1\n",
    "        a1 = relu(z1)\n",
    "        z2 = np.dot(w2, a1) + b2\n",
    "        a2 = sigmoid(z2)\n",
    "        \n",
    "        dw1, db1, dw2, db2 = back_prop(x, y, a1, a2, w2, z1)\n",
    "        \n",
    "        w1 -= learning_rate * dw1\n",
    "        b1 -= learning_rate * db1\n",
    "        w2 -= learning_rate * dw2 \n",
    "        b2 -= learning_rate * db2\n",
    "        \n",
    "        if i % math.ceil(epochs/10) == 0:\n",
    "            print(f\"Iteration: {i} Loss: {loss_sigmoid(a2, y)}\")\n",
    "    \n",
    "    return w1, b1, w2, b2\n",
    "\n",
    "def predict(x, w1, b1, w2, b2):\n",
    "    z1 = np.dot(x, w1.T) + b1.reshape(1,w1.shape[0])\n",
    "    a1 = relu(z1)\n",
    "    z2 = np.dot(a1, w2.T) + b2\n",
    "    a2 = sigmoid(z2)\n",
    "    \n",
    "    y_hat = (a2 > 0.5).astype(int)\n",
    "    \n",
    "    return y_hat.T\n",
    "\n",
    "def accuracy(yhat, y):\n",
    "    return  (np.sum(yhat == y) / y.shape[0]) * 100\n",
    "    \n",
    "fit = forward_prop"
   ]
  },
  {
   "cell_type": "code",
   "execution_count": null,
   "metadata": {},
   "outputs": [
    {
     "name": "stdout",
     "output_type": "stream",
     "text": [
      "Iteration: 0 Loss: 0.7972796754393565\n",
      "Iteration: 650 Loss: 0.5846077212312092\n",
      "Iteration: 1300 Loss: 0.5738501809732334\n",
      "Iteration: 1950 Loss: 0.5689998506764584\n",
      "Iteration: 2600 Loss: 0.5649676938779652\n",
      "Iteration: 3250 Loss: 0.5528173798767012\n",
      "Iteration: 3900 Loss: 0.5490303810437179\n",
      "Iteration: 4550 Loss: 0.615824169563417\n",
      "Iteration: 5200 Loss: 0.5313046821565992\n",
      "Iteration: 5850 Loss: 0.5360231144141944\n",
      "Iteration: 6500 Loss: 0.5262618427535856\n"
     ]
    }
   ],
   "source": [
    "w1, b1, w2, b2 = fit(x_train, y_train, hidden_units=100, learning_rate=0.01, epochs=6500)"
   ]
  },
  {
   "cell_type": "code",
   "execution_count": 131,
   "metadata": {},
   "outputs": [
    {
     "data": {
      "text/plain": [
       "73.17708333333334"
      ]
     },
     "execution_count": 131,
     "metadata": {},
     "output_type": "execute_result"
    }
   ],
   "source": [
    "yhat = predict(x_train,w1,b1,w2,b2)\n",
    "accuracy(yhat, y_train)"
   ]
  },
  {
   "cell_type": "code",
   "execution_count": 132,
   "metadata": {},
   "outputs": [
    {
     "data": {
      "text/plain": [
       "67.70833333333334"
      ]
     },
     "execution_count": 132,
     "metadata": {},
     "output_type": "execute_result"
    }
   ],
   "source": [
    "yhat_test = predict(x_test,w1,b1,w2,b2)\n",
    "accuracy(yhat_test, y_test)"
   ]
  }
 ],
 "metadata": {
  "kernelspec": {
   "display_name": "base",
   "language": "python",
   "name": "python3"
  },
  "language_info": {
   "codemirror_mode": {
    "name": "ipython",
    "version": 3
   },
   "file_extension": ".py",
   "mimetype": "text/x-python",
   "name": "python",
   "nbconvert_exporter": "python",
   "pygments_lexer": "ipython3",
   "version": "3.11.5"
  }
 },
 "nbformat": 4,
 "nbformat_minor": 2
}
