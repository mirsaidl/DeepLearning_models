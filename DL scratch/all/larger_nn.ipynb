{
 "cells": [
  {
   "cell_type": "code",
   "execution_count": 2,
   "metadata": {},
   "outputs": [],
   "source": [
    "import numpy as np\n",
    "import pandas as pd\n",
    "import seaborn as sns\n",
    "import matplotlib.pyplot as plt\n",
    "import math"
   ]
  },
  {
   "cell_type": "code",
   "execution_count": 192,
   "metadata": {},
   "outputs": [],
   "source": [
    "# Neural Network with hidden units\n",
    "def normalize(x):\n",
    "    mean = np.mean(x)\n",
    "    std_dev = np.std(x)\n",
    "    z = (x - mean) / std_dev\n",
    "    return z\n",
    "\n",
    "def sigmoid(z):\n",
    "    z_clipped = np.clip(z, -500, 500)  # Clip values to the range [-500, 500]\n",
    "    return 1 / (1 + np.exp(-z_clipped))\n",
    "\n",
    "def sigmoid_derivative(z):\n",
    "    gz = sigmoid(z)\n",
    "    return gz * (1 - gz)\n",
    "\n",
    "def linear(x,w,b):\n",
    "    return (w * x) + b\n",
    "\n",
    "def relu(z):\n",
    "    return np.maximum(0,z)\n",
    "\n",
    "def relu_derivative(z):\n",
    "     return np.where(z > 0, 1, 0)\n",
    "\n",
    "def tanh_derivative(z):\n",
    "    return 1 - (tanh(z) ** 2)\n",
    "\n",
    "def leaky_relu(z):\n",
    "    return np.maximum(0.01 * z, z)\n",
    "\n",
    "def tanh(z):\n",
    "    return np.tanh(z)\n",
    "\n",
    "def loss_sigmoid(y_pred, y):\n",
    "    y_pred = np.clip(y_pred, 1e-15, 1 - 1e-15)\n",
    "    loss = np.mean(- (y * np.log(y_pred) + (1 - y) * np.log(1 - y_pred))) \n",
    "    return loss\n",
    "\n",
    "def init_params(x, hidden_units, output_units):\n",
    "    input_units = x.shape[1]\n",
    "    w1 = np.random.randn(hidden_units, input_units)\n",
    "    b1 = np.zeros((hidden_units,  output_units))\n",
    "    w2 = np.random.randn(output_units, hidden_units)\n",
    "    b2 = np.zeros((output_units, 1))\n",
    "    \n",
    "    return w1, b1, w2, b2\n",
    "    \n",
    "def back_prop(x,y,a1,a2,w2,z1):\n",
    "    m = x.shape[1]\n",
    "    \n",
    "    dz2 = a2 - y # y stacked horizontally\n",
    "    dw2 = np.dot(dz2 ,a1.T) / m\n",
    "    db2 = (np.sum(dz2, axis=1, keepdims=True)) / m\n",
    "    dz1 = np.dot(w2.T,dz2) * relu_derivative(z1)\n",
    "    dw1 = np.dot(dz1 ,x) / m\n",
    "    db1 = (np.sum(dz1, axis=1, keepdims=True)) / m\n",
    "    \n",
    "    return dw1, db1, dw2, db2\n",
    "\n",
    "def forward_prop(x, y, hidden_units, learning_rate, epochs):\n",
    "    w1, b1, w2, b2 = init_params(x, hidden_units, output_units=1)\n",
    "    \n",
    "    for i in range(epochs+1):\n",
    "        z1 = np.dot(w1,x.T) + b1\n",
    "        a1 = relu(z1)\n",
    "        z2 = np.dot(w2, a1) + b2\n",
    "        a2 = sigmoid(z2)\n",
    "        \n",
    "        dw1, db1, dw2, db2 = back_prop(x, y, a1, a2, w2, z1)\n",
    "        \n",
    "        w1 -= learning_rate * dw1\n",
    "        b1 -= learning_rate * db1\n",
    "        w2 -= learning_rate * dw2 \n",
    "        b2 -= learning_rate * db2\n",
    "        \n",
    "        if i % math.ceil(epochs/10) == 0:\n",
    "            print(f\"Iteration: {i} Loss: {loss_sigmoid(a2, y)}\")\n",
    "    \n",
    "    return w1, b1, w2, b2\n",
    "\n",
    "def predict(x, w1, b1, w2, b2):\n",
    "    z1 = np.dot(x, w1.T) + b1.reshape(1,w1.shape[0])\n",
    "    a1 = relu(z1)\n",
    "    z2 = np.dot(a1, w2.T) + b2\n",
    "    a2 = sigmoid(z2)\n",
    "    \n",
    "    y_hat = (a2 > 0.5).astype(int)\n",
    "    \n",
    "    return y_hat.T\n",
    "\n",
    "def accuracy(yhat, y):\n",
    "    return  (np.sum(yhat == y) / y.shape[0]) * 100\n",
    "    \n",
    "fit = forward_prop"
   ]
  },
  {
   "cell_type": "code",
   "execution_count": 187,
   "metadata": {},
   "outputs": [],
   "source": [
    "# Data preprocessing\n",
    "data = pd.read_csv('breast-cancer.csv')\n",
    "# Labelling\n",
    "mapping = {'M': 1, 'B' : 0}\n",
    "data.diagnosis = data.diagnosis.map(mapping)\n",
    "# Dropping\n",
    "data.drop('id', axis=1, inplace=True)"
   ]
  },
  {
   "cell_type": "code",
   "execution_count": 188,
   "metadata": {},
   "outputs": [],
   "source": [
    "# Train/Test set\n",
    "x = data.drop('diagnosis', axis=1)\n",
    "y = data['diagnosis']\n",
    "\n",
    "x_train = x[:400].values\n",
    "x_test = x[400:].values\n",
    "y_train = y[:400].values\n",
    "y_test = y[400:].values\n",
    "\n",
    "x_train_nz = normalize(x_train)\n",
    "x_test_nz = normalize(x_test)"
   ]
  },
  {
   "cell_type": "code",
   "execution_count": 193,
   "metadata": {},
   "outputs": [
    {
     "name": "stdout",
     "output_type": "stream",
     "text": [
      "Iteration: 0 Loss: 2.938586775479914\n",
      "Iteration: 300 Loss: 0.15418491658776518\n",
      "Iteration: 600 Loss: 0.144694733454086\n",
      "Iteration: 900 Loss: 0.13928000019847417\n",
      "Iteration: 1200 Loss: 0.1349091200681611\n",
      "Iteration: 1500 Loss: 0.13015208551625623\n",
      "Iteration: 1800 Loss: 0.12384577701967402\n",
      "Iteration: 2100 Loss: 0.12994502828878585\n",
      "Iteration: 2400 Loss: 0.1276853322865138\n",
      "Iteration: 2700 Loss: 0.12580614992345832\n",
      "Iteration: 3000 Loss: 0.12419370301919114\n"
     ]
    }
   ],
   "source": [
    "w1, b1, w2, b2 = fit(x_train_nz, y_train, hidden_units=64, learning_rate=0.01, epochs=3000)"
   ]
  },
  {
   "cell_type": "code",
   "execution_count": 194,
   "metadata": {},
   "outputs": [
    {
     "data": {
      "text/plain": [
       "94.5"
      ]
     },
     "execution_count": 194,
     "metadata": {},
     "output_type": "execute_result"
    }
   ],
   "source": [
    "yhat = predict(x_train_nz,w1,b1,w2,b2)\n",
    "accuracy(yhat, y_train)"
   ]
  },
  {
   "cell_type": "code",
   "execution_count": 195,
   "metadata": {},
   "outputs": [
    {
     "data": {
      "text/plain": [
       "88.75739644970415"
      ]
     },
     "execution_count": 195,
     "metadata": {},
     "output_type": "execute_result"
    }
   ],
   "source": [
    "yhat_test = predict(x_test_nz,w1,b1,w2,b2)\n",
    "accuracy(yhat_test, y_test)"
   ]
  }
 ],
 "metadata": {
  "kernelspec": {
   "display_name": "base",
   "language": "python",
   "name": "python3"
  },
  "language_info": {
   "codemirror_mode": {
    "name": "ipython",
    "version": 3
   },
   "file_extension": ".py",
   "mimetype": "text/x-python",
   "name": "python",
   "nbconvert_exporter": "python",
   "pygments_lexer": "ipython3",
   "version": "3.11.5"
  }
 },
 "nbformat": 4,
 "nbformat_minor": 2
}
